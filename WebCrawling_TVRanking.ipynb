{
 "cells": [
  {
   "cell_type": "code",
   "execution_count": 1,
   "id": "british-giant",
   "metadata": {},
   "outputs": [],
   "source": [
    "import pandas as pd\n",
    "import requests\n",
    "from bs4 import BeautifulSoup"
   ]
  },
  {
   "cell_type": "code",
   "execution_count": 2,
   "id": "swiss-commonwealth",
   "metadata": {},
   "outputs": [],
   "source": [
    "\n",
    "rating_pages = []\n",
    "\n",
    "for year in range(2010,2013):\n",
    "    for month in range(1,13):\n",
    "        page_num = 0\n",
    "        while True:\n",
    "            response = requests.get('https://workey.codeit.kr/ratings/index?year='+str(year)+\"&month=\"+str(month)+\"&weekIndex=\"+str(page_num))\n",
    "            soup = BeautifulSoup(response.text, 'html.parser')\n",
    "            \n",
    "            if len(soup.select(\"tr td\")) != 0 : \n",
    "                rating_pages.append(soup)\n",
    "                page_num += 1\n",
    "                \n",
    "            else: break    "
   ]
  },
  {
   "cell_type": "code",
   "execution_count": 3,
   "id": "following-disclosure",
   "metadata": {},
   "outputs": [],
   "source": [
    " \n",
    "records = []  \n",
    "\n",
    "for page in rating_pages:\n",
    "    periods = page.select('#weekSelectBox option[selected=\"selected\"]')\n",
    "    ranks = page.select('.row .rank')[1:]\n",
    "    channels = page.select('.row .channel')[1:]\n",
    "    programs = page.select('.row .program')[1:]\n",
    "    ratings = page.select('.row .percent')[1:]\n",
    "    page_num += 1\n",
    "    \n",
    "    for i in range(len(ranks)):\n",
    "        record = []\n",
    "        record.append(periods[0].text)\n",
    "        record.append(ranks[i].text)\n",
    "        record.append(channels[i].text)\n",
    "        record.append(programs[i].text)\n",
    "        record.append(ratings[i].text)\n",
    "        records.append(record)\n",
    "        "
   ]
  },
  {
   "cell_type": "code",
   "execution_count": 4,
   "id": "accompanied-entrance",
   "metadata": {},
   "outputs": [
    {
     "data": {
      "text/html": [
       "<div>\n",
       "<style scoped>\n",
       "    .dataframe tbody tr th:only-of-type {\n",
       "        vertical-align: middle;\n",
       "    }\n",
       "\n",
       "    .dataframe tbody tr th {\n",
       "        vertical-align: top;\n",
       "    }\n",
       "\n",
       "    .dataframe thead th {\n",
       "        text-align: right;\n",
       "    }\n",
       "</style>\n",
       "<table border=\"1\" class=\"dataframe\">\n",
       "  <thead>\n",
       "    <tr style=\"text-align: right;\">\n",
       "      <th></th>\n",
       "      <th>period</th>\n",
       "      <th>rank</th>\n",
       "      <th>channel</th>\n",
       "      <th>program</th>\n",
       "      <th>rating</th>\n",
       "    </tr>\n",
       "  </thead>\n",
       "  <tbody>\n",
       "    <tr>\n",
       "      <th>0</th>\n",
       "      <td>2009.12.28 ~ 2010.01.03</td>\n",
       "      <td>1</td>\n",
       "      <td>KBS2</td>\n",
       "      <td>주말연속극(수상한삼형제)</td>\n",
       "      <td>33.4</td>\n",
       "    </tr>\n",
       "    <tr>\n",
       "      <th>1</th>\n",
       "      <td>2009.12.28 ~ 2010.01.03</td>\n",
       "      <td>2</td>\n",
       "      <td>KBS1</td>\n",
       "      <td>일일연속극(다함께차차차)</td>\n",
       "      <td>33.1</td>\n",
       "    </tr>\n",
       "    <tr>\n",
       "      <th>2</th>\n",
       "      <td>2009.12.28 ~ 2010.01.03</td>\n",
       "      <td>3</td>\n",
       "      <td>KBS2</td>\n",
       "      <td>해피선데이</td>\n",
       "      <td>27.1</td>\n",
       "    </tr>\n",
       "    <tr>\n",
       "      <th>3</th>\n",
       "      <td>2009.12.28 ~ 2010.01.03</td>\n",
       "      <td>4</td>\n",
       "      <td>MBC</td>\n",
       "      <td>MBC연기대상2부</td>\n",
       "      <td>24.4</td>\n",
       "    </tr>\n",
       "    <tr>\n",
       "      <th>4</th>\n",
       "      <td>2009.12.28 ~ 2010.01.03</td>\n",
       "      <td>5</td>\n",
       "      <td>SBS</td>\n",
       "      <td>주말극장(천만번사랑해)</td>\n",
       "      <td>24.2</td>\n",
       "    </tr>\n",
       "  </tbody>\n",
       "</table>\n",
       "</div>"
      ],
      "text/plain": [
       "                    period rank channel        program rating\n",
       "0  2009.12.28 ~ 2010.01.03    1    KBS2  주말연속극(수상한삼형제)   33.4\n",
       "1  2009.12.28 ~ 2010.01.03    2    KBS1  일일연속극(다함께차차차)   33.1\n",
       "2  2009.12.28 ~ 2010.01.03    3    KBS2          해피선데이   27.1\n",
       "3  2009.12.28 ~ 2010.01.03    4     MBC      MBC연기대상2부   24.4\n",
       "4  2009.12.28 ~ 2010.01.03    5     SBS   주말극장(천만번사랑해)   24.2"
      ]
     },
     "execution_count": 4,
     "metadata": {},
     "output_type": "execute_result"
    }
   ],
   "source": [
    "df = pd.DataFrame(records, columns = ['period','rank','channel','program','rating'])\n",
    "df.head()"
   ]
  }
 ],
 "metadata": {
  "kernelspec": {
   "display_name": "Python 3",
   "language": "python",
   "name": "python3"
  },
  "language_info": {
   "codemirror_mode": {
    "name": "ipython",
    "version": 3
   },
   "file_extension": ".py",
   "mimetype": "text/x-python",
   "name": "python",
   "nbconvert_exporter": "python",
   "pygments_lexer": "ipython3",
   "version": "3.7.9"
  }
 },
 "nbformat": 4,
 "nbformat_minor": 5
}
