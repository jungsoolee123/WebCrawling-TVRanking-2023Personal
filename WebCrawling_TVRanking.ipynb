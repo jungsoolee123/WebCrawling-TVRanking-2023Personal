{
 "cells": [
  {
   "cell_type": "code",
   "execution_count": 1,
   "id": "described-surrey",
   "metadata": {},
   "outputs": [],
   "source": [
    "import pandas as pd\n",
    "import requests\n",
    "from bs4 import BeautifulSoup"
   ]
  },
  {
   "cell_type": "code",
   "execution_count": null,
   "id": "romantic-problem",
   "metadata": {},
   "outputs": [],
   "source": [
    "\n",
    "rating_pages = []\n",
    "\n",
    "for year in range(2010,2013):\n",
    "    for month in range(1,13):\n",
    "        page_num = 0\n",
    "        while True:\n",
    "            response = requests.get('https://workey.codeit.kr/ratings/index?year='+str(year)+\"&month=\"+str(month)+\"&weekIndex=\"+str(page_num))\n",
    "            soup = BeautifulSoup(response.text, 'html.parser')\n",
    "            \n",
    "            if len(soup.select(\"tr td\")) != 0 : \n",
    "                rating_pages.append(soup)\n",
    "                page_num += 1\n",
    "                \n",
    "            else: break    "
   ]
  },
  {
   "cell_type": "code",
   "execution_count": null,
   "id": "insured-sacrifice",
   "metadata": {},
   "outputs": [],
   "source": [
    " \n",
    "records = []  \n",
    "\n",
    "for page in rating_pages:\n",
    "    periods = page.select('#weekSelectBox option[selected=\"selected\"]')\n",
    "    ranks = page.select('.row .rank')[1:]\n",
    "    channels = page.select('.row .channel')[1:]\n",
    "    programs = page.select('.row .program')[1:]\n",
    "    ratings = page.select('.row .percent')[1:]\n",
    "    page_num += 1\n",
    "    \n",
    "    for i in range(len(ranks)):\n",
    "        record = []\n",
    "        record.append(periods[0].text)\n",
    "        record.append(ranks[i].text)\n",
    "        record.append(channels[i].text)\n",
    "        record.append(programs[i].text)\n",
    "        record.append(ratings[i].text)\n",
    "        records.append(record)\n",
    "        "
   ]
  },
  {
   "cell_type": "code",
   "execution_count": null,
   "id": "exposed-massage",
   "metadata": {},
   "outputs": [],
   "source": [
    "df = pd.DataFrame(records, columns = ['period','rank','channel','program','rating'])\n",
    "df.head()"
   ]
  }
 ],
 "metadata": {
  "kernelspec": {
   "display_name": "Python 3",
   "language": "python",
   "name": "python3"
  },
  "language_info": {
   "codemirror_mode": {
    "name": "ipython",
    "version": 3
   },
   "file_extension": ".py",
   "mimetype": "text/x-python",
   "name": "python",
   "nbconvert_exporter": "python",
   "pygments_lexer": "ipython3",
   "version": "3.7.9"
  }
 },
 "nbformat": 4,
 "nbformat_minor": 5
}
